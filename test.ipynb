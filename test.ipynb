{
 "cells": [
  {
   "cell_type": "code",
   "execution_count": null,
   "metadata": {},
   "outputs": [
    {
     "name": "stdout",
     "output_type": "stream",
     "text": [
      "sample_tokens\n",
      "521    QZeXB_1p\n",
      "737    QZsHakG0\n",
      "740    QZsPUBiG\n",
      "660    QZoLoLNS\n",
      "411    QZT_RWBV\n",
      "         ...   \n",
      "106    QZ0PpohP\n",
      "270    QZ0utG3W\n",
      "860    QZwryd1P\n",
      "435    QZV78a2n\n",
      "102    QZ0PjT6E\n",
      "Name: token, Length: 1000, dtype: object\n",
      "     radius     token  point.latitude  point.longitude\n",
      "5     500.0  QZ-WRg_v       35.809017        51.414654\n",
      "8     500.0  QZ03CNfg       35.678890        51.365490\n",
      "22    500.0  QZ0724C9       35.709231        51.345597\n",
      "26    500.0  QZ07DZEN       35.804980        51.405980\n",
      "27    500.0  QZ07Ezwe       35.734843        51.483280\n",
      "..      ...       ...             ...              ...\n",
      "959   500.0  QZzvxau3       35.678459        51.435843\n",
      "965   500.0  QZ1XDnNa       35.669107        51.299157\n",
      "971   500.0  QZ1fD_nN       35.779985        51.358829\n",
      "977   500.0  QZ1rDLyM       35.714409        51.358134\n",
      "995   500.0  QZQbs6Dr       35.717540        51.374870\n",
      "\n",
      "[168 rows x 4 columns]\n"
     ]
    }
   ],
   "source": [
    "import pandas as pd\n",
    "\n",
    "business = pd.read_csv(\"business.csv\", nrows=1000)\n",
    "list_data = pd.read_csv(\"list_data.csv\", nrows=1000)\n",
    "location = pd.read_csv(\"location.csv\", nrows=1000)\n",
    "web_info = pd.read_csv(\"web_info.csv\", nrows=1000)\n",
    "webengage = pd.read_csv(\"webengage.csv\", nrows=1000)\n",
    "\n",
    "# business.head(100)\n",
    "\n",
    "sampled = list_data.sample(n=1000, random_state=42)\n",
    "\n",
    "sample_tokens = sampled['token']\n",
    "\n",
    "location_filtered = location[location['token'].isin(sample_tokens)]\n",
    "\n",
    "web_info_filtered = web_info[['token', 'web_info.city_persian', 'web_info.district_persian']]\n",
    "# showing only those who exist in sample_tokens\n",
    "web_info_filtered = web_info_filtered[web_info_filtered['token'].isin(sample_tokens)]\n",
    "\n",
    "webengage_filtered = webengage[['token', 'business_ref', 'business_type', 'credit', 'image_count']]\n",
    "# showing only those who exist in sample_tokens\n",
    "webengage_filtered = webengage_filtered[webengage_filtered['token'].isin(sample_tokens)]\n",
    "\n",
    "# merging everything together\n",
    "df = sampled \\\n",
    "    .merge(location_filtered, on='token', how='left') \\\n",
    "    .merge(web_info_filtered, on='token', how='left') \\\n",
    "    .merge(webengage_filtered, on='token', how='left')\n",
    "\n",
    "# df.drop(columns=[\n",
    "#     'features.گرمایش شومینه', 'features.گرمایش انتخاب نشده', 'features.سرمایش انتخاب نشده',\n",
    "#     'features.سرویس بهداشتی انتخاب نشده', 'features.جنس کف انتخاب نشده',\n",
    "#     'features.سند', 'basic_info.قیمت کل'\n",
    "# ], inplace=True)\n",
    "\n",
    "df.info()\n",
    "df.describe(include=\"all\")"
   ]
  }
 ],
 "metadata": {
  "kernelspec": {
   "display_name": ".venv",
   "language": "python",
   "name": "python3"
  },
  "language_info": {
   "codemirror_mode": {
    "name": "ipython",
    "version": 3
   },
   "file_extension": ".py",
   "mimetype": "text/x-python",
   "name": "python",
   "nbconvert_exporter": "python",
   "pygments_lexer": "ipython3",
   "version": "3.11.11"
  }
 },
 "nbformat": 4,
 "nbformat_minor": 2
}
